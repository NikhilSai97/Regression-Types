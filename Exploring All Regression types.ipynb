{
 "cells": [
  {
   "cell_type": "markdown",
   "metadata": {},
   "source": [
    "## Exploring all Regression types "
   ]
  },
  {
   "cell_type": "markdown",
   "metadata": {},
   "source": [
    "### 1. Read the data into numpy array"
   ]
  },
  {
   "cell_type": "code",
   "execution_count": 263,
   "metadata": {},
   "outputs": [],
   "source": [
    "# Read data from file: 'data.csv'. \n",
    "# Note that the first row has the number of inputs and number of outputs specified.\n",
    "# For your reference: you can use \"np.loadtxt\".\n",
    "import math\n",
    "import pandas as pd\n",
    "import numpy as np\n",
    "import matplotlib.pyplot as plt\n",
    "from sklearn.linear_model import LinearRegression, Ridge, Lasso, ElasticNet, RidgeCV\n",
    "from sklearn.model_selection import train_test_split, GridSearchCV\n",
    "from sklearn.metrics import mean_squared_error, r2_score"
   ]
  },
  {
   "cell_type": "code",
   "execution_count": 264,
   "metadata": {},
   "outputs": [],
   "source": [
    "data = pd.read_csv('data.csv')"
   ]
  },
  {
   "cell_type": "markdown",
   "metadata": {},
   "source": [
    "### 2. Plot and Explore the data to get a better understanding"
   ]
  },
  {
   "cell_type": "code",
   "execution_count": 265,
   "metadata": {},
   "outputs": [
    {
     "data": {
      "text/html": [
       "<div>\n",
       "<style scoped>\n",
       "    .dataframe tbody tr th:only-of-type {\n",
       "        vertical-align: middle;\n",
       "    }\n",
       "\n",
       "    .dataframe tbody tr th {\n",
       "        vertical-align: top;\n",
       "    }\n",
       "\n",
       "    .dataframe thead th {\n",
       "        text-align: right;\n",
       "    }\n",
       "</style>\n",
       "<table border=\"1\" class=\"dataframe\">\n",
       "  <thead>\n",
       "    <tr style=\"text-align: right;\">\n",
       "      <th></th>\n",
       "      <th>2</th>\n",
       "      <th>1</th>\n",
       "    </tr>\n",
       "  </thead>\n",
       "  <tbody>\n",
       "    <tr>\n",
       "      <th>51.87</th>\n",
       "      <td>79.72</td>\n",
       "      <td>1249.99</td>\n",
       "    </tr>\n",
       "    <tr>\n",
       "      <th>-30.66</th>\n",
       "      <td>-15.64</td>\n",
       "      <td>-516.61</td>\n",
       "    </tr>\n",
       "    <tr>\n",
       "      <th>-57.57</th>\n",
       "      <td>94.22</td>\n",
       "      <td>312.09</td>\n",
       "    </tr>\n",
       "    <tr>\n",
       "      <th>-122.10</th>\n",
       "      <td>5.15</td>\n",
       "      <td>-1544.90</td>\n",
       "    </tr>\n",
       "    <tr>\n",
       "      <th>-53.45</th>\n",
       "      <td>41.87</td>\n",
       "      <td>-201.57</td>\n",
       "    </tr>\n",
       "  </tbody>\n",
       "</table>\n",
       "</div>"
      ],
      "text/plain": [
       "             2        1\n",
       " 51.87   79.72  1249.99\n",
       "-30.66  -15.64  -516.61\n",
       "-57.57   94.22   312.09\n",
       "-122.10   5.15 -1544.90\n",
       "-53.45   41.87  -201.57"
      ]
     },
     "execution_count": 265,
     "metadata": {},
     "output_type": "execute_result"
    }
   ],
   "source": [
    "data.head()"
   ]
  },
  {
   "cell_type": "code",
   "execution_count": 266,
   "metadata": {},
   "outputs": [],
   "source": [
    "data.reset_index(level=0, inplace=True)"
   ]
  },
  {
   "cell_type": "code",
   "execution_count": 267,
   "metadata": {},
   "outputs": [],
   "source": [
    "data.columns = ['feature_1', 'feature_2','target']"
   ]
  },
  {
   "cell_type": "code",
   "execution_count": 268,
   "metadata": {},
   "outputs": [
    {
     "data": {
      "text/html": [
       "<div>\n",
       "<style scoped>\n",
       "    .dataframe tbody tr th:only-of-type {\n",
       "        vertical-align: middle;\n",
       "    }\n",
       "\n",
       "    .dataframe tbody tr th {\n",
       "        vertical-align: top;\n",
       "    }\n",
       "\n",
       "    .dataframe thead th {\n",
       "        text-align: right;\n",
       "    }\n",
       "</style>\n",
       "<table border=\"1\" class=\"dataframe\">\n",
       "  <thead>\n",
       "    <tr style=\"text-align: right;\">\n",
       "      <th></th>\n",
       "      <th>feature_1</th>\n",
       "      <th>feature_2</th>\n",
       "      <th>target</th>\n",
       "    </tr>\n",
       "  </thead>\n",
       "  <tbody>\n",
       "    <tr>\n",
       "      <th>0</th>\n",
       "      <td>51.87</td>\n",
       "      <td>79.72</td>\n",
       "      <td>1249.99</td>\n",
       "    </tr>\n",
       "    <tr>\n",
       "      <th>1</th>\n",
       "      <td>-30.66</td>\n",
       "      <td>-15.64</td>\n",
       "      <td>-516.61</td>\n",
       "    </tr>\n",
       "    <tr>\n",
       "      <th>2</th>\n",
       "      <td>-57.57</td>\n",
       "      <td>94.22</td>\n",
       "      <td>312.09</td>\n",
       "    </tr>\n",
       "    <tr>\n",
       "      <th>3</th>\n",
       "      <td>-122.10</td>\n",
       "      <td>5.15</td>\n",
       "      <td>-1544.90</td>\n",
       "    </tr>\n",
       "    <tr>\n",
       "      <th>4</th>\n",
       "      <td>-53.45</td>\n",
       "      <td>41.87</td>\n",
       "      <td>-201.57</td>\n",
       "    </tr>\n",
       "  </tbody>\n",
       "</table>\n",
       "</div>"
      ],
      "text/plain": [
       "   feature_1  feature_2   target\n",
       "0      51.87      79.72  1249.99\n",
       "1     -30.66     -15.64  -516.61\n",
       "2     -57.57      94.22   312.09\n",
       "3    -122.10       5.15 -1544.90\n",
       "4     -53.45      41.87  -201.57"
      ]
     },
     "execution_count": 268,
     "metadata": {},
     "output_type": "execute_result"
    }
   ],
   "source": [
    "data.head()"
   ]
  },
  {
   "cell_type": "code",
   "execution_count": 269,
   "metadata": {},
   "outputs": [
    {
     "data": {
      "text/html": [
       "<div>\n",
       "<style scoped>\n",
       "    .dataframe tbody tr th:only-of-type {\n",
       "        vertical-align: middle;\n",
       "    }\n",
       "\n",
       "    .dataframe tbody tr th {\n",
       "        vertical-align: top;\n",
       "    }\n",
       "\n",
       "    .dataframe thead th {\n",
       "        text-align: right;\n",
       "    }\n",
       "</style>\n",
       "<table border=\"1\" class=\"dataframe\">\n",
       "  <thead>\n",
       "    <tr style=\"text-align: right;\">\n",
       "      <th></th>\n",
       "      <th>feature_1</th>\n",
       "      <th>feature_2</th>\n",
       "      <th>target</th>\n",
       "    </tr>\n",
       "  </thead>\n",
       "  <tbody>\n",
       "    <tr>\n",
       "      <th>count</th>\n",
       "      <td>3000.000000</td>\n",
       "      <td>3000.00000</td>\n",
       "      <td>3000.000000</td>\n",
       "    </tr>\n",
       "    <tr>\n",
       "      <th>mean</th>\n",
       "      <td>-18.483293</td>\n",
       "      <td>31.24422</td>\n",
       "      <td>-11.450140</td>\n",
       "    </tr>\n",
       "    <tr>\n",
       "      <th>std</th>\n",
       "      <td>34.398479</td>\n",
       "      <td>42.99015</td>\n",
       "      <td>662.873355</td>\n",
       "    </tr>\n",
       "    <tr>\n",
       "      <th>min</th>\n",
       "      <td>-140.710000</td>\n",
       "      <td>-132.18000</td>\n",
       "      <td>-2325.790000</td>\n",
       "    </tr>\n",
       "    <tr>\n",
       "      <th>25%</th>\n",
       "      <td>-40.392500</td>\n",
       "      <td>3.38250</td>\n",
       "      <td>-446.140000</td>\n",
       "    </tr>\n",
       "    <tr>\n",
       "      <th>50%</th>\n",
       "      <td>-18.485000</td>\n",
       "      <td>31.34500</td>\n",
       "      <td>-17.680000</td>\n",
       "    </tr>\n",
       "    <tr>\n",
       "      <th>75%</th>\n",
       "      <td>4.125000</td>\n",
       "      <td>60.59000</td>\n",
       "      <td>429.782500</td>\n",
       "    </tr>\n",
       "    <tr>\n",
       "      <th>max</th>\n",
       "      <td>93.930000</td>\n",
       "      <td>189.99000</td>\n",
       "      <td>2198.490000</td>\n",
       "    </tr>\n",
       "  </tbody>\n",
       "</table>\n",
       "</div>"
      ],
      "text/plain": [
       "         feature_1   feature_2       target\n",
       "count  3000.000000  3000.00000  3000.000000\n",
       "mean    -18.483293    31.24422   -11.450140\n",
       "std      34.398479    42.99015   662.873355\n",
       "min    -140.710000  -132.18000 -2325.790000\n",
       "25%     -40.392500     3.38250  -446.140000\n",
       "50%     -18.485000    31.34500   -17.680000\n",
       "75%       4.125000    60.59000   429.782500\n",
       "max      93.930000   189.99000  2198.490000"
      ]
     },
     "execution_count": 269,
     "metadata": {},
     "output_type": "execute_result"
    }
   ],
   "source": [
    "data.describe()"
   ]
  },
  {
   "cell_type": "code",
   "execution_count": 270,
   "metadata": {},
   "outputs": [
    {
     "data": {
      "text/plain": [
       "array([[<matplotlib.axes._subplots.AxesSubplot object at 0x000002B93AAC37F0>,\n",
       "        <matplotlib.axes._subplots.AxesSubplot object at 0x000002B93AB8F3A0>],\n",
       "       [<matplotlib.axes._subplots.AxesSubplot object at 0x000002B93BE35C10>,\n",
       "        <matplotlib.axes._subplots.AxesSubplot object at 0x000002B93BEC70D0>]],\n",
       "      dtype=object)"
      ]
     },
     "execution_count": 270,
     "metadata": {},
     "output_type": "execute_result"
    },
    {
     "data": {
      "image/png": "[encoded data removed]",
      "text/plain": [
       "<Figure size 1080x720 with 4 Axes>"
      ]
     },
     "metadata": {
      "needs_background": "light"
     },
     "output_type": "display_data"
    }
   ],
   "source": [
    "data.hist(bins=30, figsize=(15, 10))"
   ]
  },
  {
   "cell_type": "code",
   "execution_count": 271,
   "metadata": {},
   "outputs": [
    {
     "data": {
      "image/png": "[encoded data removed]",
      "text/plain": [
       "<Figure size 432x288 with 1 Axes>"
      ]
     },
     "metadata": {
      "needs_background": "light"
     },
     "output_type": "display_data"
    }
   ],
   "source": [
    "plt.scatter(data['feature_1'],data['feature_2'])\n",
    "plt.xlabel('feature_1')\n",
    "plt.ylabel('feature_2')\n",
    "plt.title('Scatter plot between feature 1 and feature 2')\n",
    "plt.show()"
   ]
  },
  {
   "cell_type": "markdown",
   "metadata": {},
   "source": [
    "### 3. Prepare the data for modelling. (8 points)"
   ]
  },
  {
   "cell_type": "code",
   "execution_count": 272,
   "metadata": {},
   "outputs": [],
   "source": [
    "# Separate the data: input and output.\n",
    "X= data[['feature_1', 'feature_2']]\n",
    "y = data['target']"
   ]
  },
  {
   "cell_type": "code",
   "execution_count": 273,
   "metadata": {},
   "outputs": [],
   "source": [
    "# Perform a train-val-test split of 60-20-20.\n",
    "# Use \"random_state=42\".\n",
    "# For your reference: you can use \"train_test_split\" from sklearn twice to perform this. \n",
    "# From your understanding of the dataset, is stratified sampling necessary in this case? Why / Why not?\n",
    "X_train, X_test, y_train, y_test = train_test_split(X, y, test_size=0.2, random_state=42)\n",
    "\n",
    "X_train, X_val, y_train, y_val = train_test_split(X_train, y_train, test_size=0.25, random_state=42)"
   ]
  },
  {
   "cell_type": "markdown",
   "metadata": {},
   "source": [
    "### From your understanding of the dataset, is stratified sampling necessary in this case? Why / Why not?\n",
    "#### As we dont have the domain information and meta data about the given dataset, we cannt perform  stratified sampling"
   ]
  },
  {
   "cell_type": "markdown",
   "metadata": {},
   "source": [
    "### 4. Modelling"
   ]
  },
  {
   "cell_type": "markdown",
   "metadata": {},
   "source": [
    "#### 4.1. Linear Regression (8 points)"
   ]
  },
  {
   "cell_type": "code",
   "execution_count": 274,
   "metadata": {},
   "outputs": [],
   "source": [
    "# Implement Linear Regression.\n",
    "# Use both train and val data for training purpose.\n",
    "# Make preditions on both training(train+val) and test data.\n",
    "X_final_training = pd.concat([X_train,X_val],ignore_index=True)\n",
    "y_final_training = pd.concat([y_train,y_val],ignore_index=True)"
   ]
  },
  {
   "cell_type": "code",
   "execution_count": 275,
   "metadata": {},
   "outputs": [
    {
     "data": {
      "text/plain": [
       "LinearRegression()"
      ]
     },
     "execution_count": 275,
     "metadata": {},
     "output_type": "execute_result"
    }
   ],
   "source": [
    "model_lr = LinearRegression()\n",
    "model_lr.fit(X_final_training, y_final_training)"
   ]
  },
  {
   "cell_type": "code",
   "execution_count": 276,
   "metadata": {},
   "outputs": [],
   "source": [
    "y_test_pred = model_lr.predict(X_test)"
   ]
  },
  {
   "cell_type": "code",
   "execution_count": 277,
   "metadata": {},
   "outputs": [
    {
     "name": "stdout",
     "output_type": "stream",
     "text": [
      "RMSE on Test data: 148.47388000962516\n"
     ]
    }
   ],
   "source": [
    "mse = mean_squared_error(y_test, y_test_pred)\n",
    "\n",
    "rmse = math.sqrt(mse)\n",
    "\n",
    "print(f'RMSE on Test data: {rmse}')"
   ]
  },
  {
   "cell_type": "code",
   "execution_count": 278,
   "metadata": {},
   "outputs": [],
   "source": [
    "y_train_pred = model_lr.predict(X_final_training)"
   ]
  },
  {
   "cell_type": "code",
   "execution_count": 279,
   "metadata": {},
   "outputs": [
    {
     "name": "stdout",
     "output_type": "stream",
     "text": [
      "RMSE on Train data: 151.58756422068186\n"
     ]
    }
   ],
   "source": [
    "mse = mean_squared_error(y_final_training, y_train_pred)\n",
    "\n",
    "rmse = math.sqrt(mse)\n",
    "\n",
    "print(f'RMSE on Train data: {rmse}')"
   ]
  },
  {
   "cell_type": "markdown",
   "metadata": {},
   "source": [
    "#### 4.2. Ridge Regression (8 points)"
   ]
  },
  {
   "cell_type": "code",
   "execution_count": 280,
   "metadata": {},
   "outputs": [],
   "source": [
    "# Implement Ridge Regression.\n",
    "# Perform cross validation to find a good value for your hyper-parameter.\n",
    "# After choosing a good value for your hyper-parameter, use both train and val data for final training purpose of your model.\n",
    "# Make preditions on both training(train+val) and test data."
   ]
  },
  {
   "cell_type": "code",
   "execution_count": 281,
   "metadata": {},
   "outputs": [
    {
     "name": "stdout",
     "output_type": "stream",
     "text": [
      "Fitting 5 folds for each of 28 candidates, totalling 140 fits\n"
     ]
    },
    {
     "name": "stderr",
     "output_type": "stream",
     "text": [
      "[Parallel(n_jobs=1)]: Using backend SequentialBackend with 1 concurrent workers.\n",
      "[Parallel(n_jobs=1)]: Done 140 out of 140 | elapsed:    0.7s finished\n"
     ]
    },
    {
     "data": {
      "text/plain": [
       "GridSearchCV(cv=5, estimator=Ridge(),\n",
       "             param_grid={'alpha': [0.0001, 0.001, 0.01, 0.05, 0.1, 0.2, 0.3,\n",
       "                                   0.4, 0.5, 0.6, 0.7, 0.8, 0.9, 1.0, 2.0, 3.0,\n",
       "                                   4.0, 5.0, 6.0, 7.0, 8.0, 9.0, 10.0, 20, 50,\n",
       "                                   100, 500, 1000]},\n",
       "             return_train_score=True, scoring='neg_mean_absolute_error',\n",
       "             verbose=1)"
      ]
     },
     "execution_count": 281,
     "metadata": {},
     "output_type": "execute_result"
    }
   ],
   "source": [
    "params = {'alpha': [0.0001, 0.001, 0.01, 0.05, 0.1, \n",
    " 0.2, 0.3, 0.4, 0.5, 0.6, 0.7, 0.8, 0.9, 1.0, 2.0, 3.0, \n",
    " 4.0, 5.0, 6.0, 7.0, 8.0, 9.0, 10.0, 20, 50, 100, 500, 1000 ]}\n",
    "\n",
    "\n",
    "ridge = Ridge()\n",
    "\n",
    "# cross validation\n",
    "folds = 5\n",
    "model_cv = GridSearchCV(estimator = ridge, \n",
    "                        param_grid = params, \n",
    "                        scoring= 'neg_mean_absolute_error', \n",
    "                        cv = folds, \n",
    "                        return_train_score=True,\n",
    "                        verbose = 1)            \n",
    "model_cv.fit(X_final_training, y_final_training)"
   ]
  },
  {
   "cell_type": "code",
   "execution_count": 282,
   "metadata": {},
   "outputs": [
    {
     "data": {
      "text/html": [
       "<div>\n",
       "<style scoped>\n",
       "    .dataframe tbody tr th:only-of-type {\n",
       "        vertical-align: middle;\n",
       "    }\n",
       "\n",
       "    .dataframe tbody tr th {\n",
       "        vertical-align: top;\n",
       "    }\n",
       "\n",
       "    .dataframe thead th {\n",
       "        text-align: right;\n",
       "    }\n",
       "</style>\n",
       "<table border=\"1\" class=\"dataframe\">\n",
       "  <thead>\n",
       "    <tr style=\"text-align: right;\">\n",
       "      <th></th>\n",
       "      <th>mean_fit_time</th>\n",
       "      <th>std_fit_time</th>\n",
       "      <th>mean_score_time</th>\n",
       "      <th>std_score_time</th>\n",
       "      <th>param_alpha</th>\n",
       "      <th>params</th>\n",
       "      <th>split0_test_score</th>\n",
       "      <th>split1_test_score</th>\n",
       "      <th>split2_test_score</th>\n",
       "      <th>split3_test_score</th>\n",
       "      <th>...</th>\n",
       "      <th>mean_test_score</th>\n",
       "      <th>std_test_score</th>\n",
       "      <th>rank_test_score</th>\n",
       "      <th>split0_train_score</th>\n",
       "      <th>split1_train_score</th>\n",
       "      <th>split2_train_score</th>\n",
       "      <th>split3_train_score</th>\n",
       "      <th>split4_train_score</th>\n",
       "      <th>mean_train_score</th>\n",
       "      <th>std_train_score</th>\n",
       "    </tr>\n",
       "  </thead>\n",
       "  <tbody>\n",
       "    <tr>\n",
       "      <th>0</th>\n",
       "      <td>0.002992</td>\n",
       "      <td>0.000631</td>\n",
       "      <td>0.001596</td>\n",
       "      <td>0.000489</td>\n",
       "      <td>0.0001</td>\n",
       "      <td>{'alpha': 0.0001}</td>\n",
       "      <td>-117.680063</td>\n",
       "      <td>-124.558721</td>\n",
       "      <td>-119.44424</td>\n",
       "      <td>-119.474173</td>\n",
       "      <td>...</td>\n",
       "      <td>-120.902416</td>\n",
       "      <td>2.605106</td>\n",
       "      <td>1</td>\n",
       "      <td>-121.585538</td>\n",
       "      <td>-119.901817</td>\n",
       "      <td>-121.092636</td>\n",
       "      <td>-121.095426</td>\n",
       "      <td>-120.12817</td>\n",
       "      <td>-120.760718</td>\n",
       "      <td>0.638805</td>\n",
       "    </tr>\n",
       "    <tr>\n",
       "      <th>1</th>\n",
       "      <td>0.003804</td>\n",
       "      <td>0.003607</td>\n",
       "      <td>0.000203</td>\n",
       "      <td>0.000406</td>\n",
       "      <td>0.001</td>\n",
       "      <td>{'alpha': 0.001}</td>\n",
       "      <td>-117.680063</td>\n",
       "      <td>-124.558721</td>\n",
       "      <td>-119.44424</td>\n",
       "      <td>-119.474173</td>\n",
       "      <td>...</td>\n",
       "      <td>-120.902416</td>\n",
       "      <td>2.605106</td>\n",
       "      <td>2</td>\n",
       "      <td>-121.585538</td>\n",
       "      <td>-119.901817</td>\n",
       "      <td>-121.092636</td>\n",
       "      <td>-121.095426</td>\n",
       "      <td>-120.12817</td>\n",
       "      <td>-120.760718</td>\n",
       "      <td>0.638805</td>\n",
       "    </tr>\n",
       "    <tr>\n",
       "      <th>2</th>\n",
       "      <td>0.003206</td>\n",
       "      <td>0.003927</td>\n",
       "      <td>0.001594</td>\n",
       "      <td>0.003188</td>\n",
       "      <td>0.01</td>\n",
       "      <td>{'alpha': 0.01}</td>\n",
       "      <td>-117.680063</td>\n",
       "      <td>-124.558722</td>\n",
       "      <td>-119.44424</td>\n",
       "      <td>-119.474173</td>\n",
       "      <td>...</td>\n",
       "      <td>-120.902417</td>\n",
       "      <td>2.605106</td>\n",
       "      <td>3</td>\n",
       "      <td>-121.585538</td>\n",
       "      <td>-119.901817</td>\n",
       "      <td>-121.092637</td>\n",
       "      <td>-121.095427</td>\n",
       "      <td>-120.12817</td>\n",
       "      <td>-120.760718</td>\n",
       "      <td>0.638805</td>\n",
       "    </tr>\n",
       "    <tr>\n",
       "      <th>3</th>\n",
       "      <td>0.001600</td>\n",
       "      <td>0.003200</td>\n",
       "      <td>0.001594</td>\n",
       "      <td>0.003188</td>\n",
       "      <td>0.05</td>\n",
       "      <td>{'alpha': 0.05}</td>\n",
       "      <td>-117.680064</td>\n",
       "      <td>-124.558722</td>\n",
       "      <td>-119.44424</td>\n",
       "      <td>-119.474173</td>\n",
       "      <td>...</td>\n",
       "      <td>-120.902417</td>\n",
       "      <td>2.605106</td>\n",
       "      <td>4</td>\n",
       "      <td>-121.585538</td>\n",
       "      <td>-119.901817</td>\n",
       "      <td>-121.092637</td>\n",
       "      <td>-121.095427</td>\n",
       "      <td>-120.12817</td>\n",
       "      <td>-120.760718</td>\n",
       "      <td>0.638805</td>\n",
       "    </tr>\n",
       "    <tr>\n",
       "      <th>4</th>\n",
       "      <td>0.000000</td>\n",
       "      <td>0.000000</td>\n",
       "      <td>0.001600</td>\n",
       "      <td>0.003200</td>\n",
       "      <td>0.1</td>\n",
       "      <td>{'alpha': 0.1}</td>\n",
       "      <td>-117.680064</td>\n",
       "      <td>-124.558723</td>\n",
       "      <td>-119.44424</td>\n",
       "      <td>-119.474172</td>\n",
       "      <td>...</td>\n",
       "      <td>-120.902417</td>\n",
       "      <td>2.605107</td>\n",
       "      <td>5</td>\n",
       "      <td>-121.585539</td>\n",
       "      <td>-119.901817</td>\n",
       "      <td>-121.092637</td>\n",
       "      <td>-121.095427</td>\n",
       "      <td>-120.12817</td>\n",
       "      <td>-120.760718</td>\n",
       "      <td>0.638805</td>\n",
       "    </tr>\n",
       "  </tbody>\n",
       "</table>\n",
       "<p>5 rows × 21 columns</p>\n",
       "</div>"
      ],
      "text/plain": [
       "   mean_fit_time  std_fit_time  mean_score_time  std_score_time param_alpha  \\\n",
       "0       0.002992      0.000631         0.001596        0.000489      0.0001   \n",
       "1       0.003804      0.003607         0.000203        0.000406       0.001   \n",
       "2       0.003206      0.003927         0.001594        0.003188        0.01   \n",
       "3       0.001600      0.003200         0.001594        0.003188        0.05   \n",
       "4       0.000000      0.000000         0.001600        0.003200         0.1   \n",
       "\n",
       "              params  split0_test_score  split1_test_score  split2_test_score  \\\n",
       "0  {'alpha': 0.0001}        -117.680063        -124.558721         -119.44424   \n",
       "1   {'alpha': 0.001}        -117.680063        -124.558721         -119.44424   \n",
       "2    {'alpha': 0.01}        -117.680063        -124.558722         -119.44424   \n",
       "3    {'alpha': 0.05}        -117.680064        -124.558722         -119.44424   \n",
       "4     {'alpha': 0.1}        -117.680064        -124.558723         -119.44424   \n",
       "\n",
       "   split3_test_score  ...  mean_test_score  std_test_score  rank_test_score  \\\n",
       "0        -119.474173  ...      -120.902416        2.605106                1   \n",
       "1        -119.474173  ...      -120.902416        2.605106                2   \n",
       "2        -119.474173  ...      -120.902417        2.605106                3   \n",
       "3        -119.474173  ...      -120.902417        2.605106                4   \n",
       "4        -119.474172  ...      -120.902417        2.605107                5   \n",
       "\n",
       "   split0_train_score  split1_train_score  split2_train_score  \\\n",
       "0         -121.585538         -119.901817         -121.092636   \n",
       "1         -121.585538         -119.901817         -121.092636   \n",
       "2         -121.585538         -119.901817         -121.092637   \n",
       "3         -121.585538         -119.901817         -121.092637   \n",
       "4         -121.585539         -119.901817         -121.092637   \n",
       "\n",
       "   split3_train_score  split4_train_score  mean_train_score  std_train_score  \n",
       "0         -121.095426          -120.12817       -120.760718         0.638805  \n",
       "1         -121.095426          -120.12817       -120.760718         0.638805  \n",
       "2         -121.095427          -120.12817       -120.760718         0.638805  \n",
       "3         -121.095427          -120.12817       -120.760718         0.638805  \n",
       "4         -121.095427          -120.12817       -120.760718         0.638805  \n",
       "\n",
       "[5 rows x 21 columns]"
      ]
     },
     "execution_count": 282,
     "metadata": {},
     "output_type": "execute_result"
    }
   ],
   "source": [
    "cv_results = pd.DataFrame(model_cv.cv_results_)\n",
    "cv_results.head()"
   ]
  },
  {
   "cell_type": "code",
   "execution_count": 283,
   "metadata": {},
   "outputs": [
    {
     "data": {
      "image/png": "[encoded data removed]",
      "text/plain": [
       "<Figure size 432x288 with 1 Axes>"
      ]
     },
     "metadata": {
      "needs_background": "light"
     },
     "output_type": "display_data"
    }
   ],
   "source": [
    "# plotting mean test and train scoes with alpha \n",
    "cv_results['param_alpha'] = cv_results['param_alpha'].astype('int32')\n",
    "\n",
    "# plotting\n",
    "plt.plot(cv_results['param_alpha'], cv_results['mean_train_score'])\n",
    "plt.plot(cv_results['param_alpha'], cv_results['mean_test_score'])\n",
    "plt.xlabel('alpha')\n",
    "plt.ylabel('Negative Mean Absolute Error')\n",
    "plt.title(\"Negative Mean Absolute Error and alpha\")\n",
    "plt.legend(['train score', 'test score'], loc='upper left')\n",
    "plt.show()"
   ]
  },
  {
   "cell_type": "code",
   "execution_count": 284,
   "metadata": {},
   "outputs": [
    {
     "data": {
      "text/plain": [
       "{'alpha': 0.0001}"
      ]
     },
     "execution_count": 284,
     "metadata": {},
     "output_type": "execute_result"
    }
   ],
   "source": [
    "model_cv.best_params_"
   ]
  },
  {
   "cell_type": "code",
   "execution_count": 285,
   "metadata": {},
   "outputs": [
    {
     "data": {
      "text/plain": [
       "Ridge(alpha=0.0001)"
      ]
     },
     "execution_count": 285,
     "metadata": {},
     "output_type": "execute_result"
    }
   ],
   "source": [
    "model_ridge = Ridge(alpha = 0.0001) \n",
    "model_ridge.fit(X_final_training, y_final_training)"
   ]
  },
  {
   "cell_type": "code",
   "execution_count": 286,
   "metadata": {},
   "outputs": [],
   "source": [
    "y_test_pred = model_ridge.predict(X_test)"
   ]
  },
  {
   "cell_type": "code",
   "execution_count": 287,
   "metadata": {},
   "outputs": [
    {
     "name": "stdout",
     "output_type": "stream",
     "text": [
      "RMSE on Test data: 148.47388000982554\n"
     ]
    }
   ],
   "source": [
    "mse = mean_squared_error(y_test, y_test_pred)\n",
    "\n",
    "rmse = math.sqrt(mse)\n",
    "\n",
    "print(f'RMSE on Test data: {rmse}')"
   ]
  },
  {
   "cell_type": "code",
   "execution_count": 288,
   "metadata": {},
   "outputs": [],
   "source": [
    "y_train_pred = model_ridge.predict(X_final_training)"
   ]
  },
  {
   "cell_type": "code",
   "execution_count": 289,
   "metadata": {},
   "outputs": [
    {
     "name": "stdout",
     "output_type": "stream",
     "text": [
      "RMSE on Train data: 151.58756422068186\n"
     ]
    }
   ],
   "source": [
    "mse = mean_squared_error(y_final_training, y_train_pred)\n",
    "\n",
    "rmse = math.sqrt(mse)\n",
    "\n",
    "print(f'RMSE on Train data: {rmse}')"
   ]
  },
  {
   "cell_type": "markdown",
   "metadata": {},
   "source": [
    "#### 4.3. Lasso Regression (8 points)"
   ]
  },
  {
   "cell_type": "code",
   "execution_count": 290,
   "metadata": {},
   "outputs": [],
   "source": [
    "# Implement Lasso Regression.\n",
    "# Perform cross validation to find a good value for your hyper-parameter.\n",
    "# After choosing a good value for your hyper-parameter, use both train and val data for final training purpose of your model.\n",
    "# Make preditions on both training(train+val) and test data.\n",
    "# import Lasso regression from sklearn library "
   ]
  },
  {
   "cell_type": "code",
   "execution_count": 291,
   "metadata": {},
   "outputs": [
    {
     "name": "stdout",
     "output_type": "stream",
     "text": [
      "Fitting 5 folds for each of 28 candidates, totalling 140 fits\n"
     ]
    },
    {
     "name": "stderr",
     "output_type": "stream",
     "text": [
      "[Parallel(n_jobs=1)]: Using backend SequentialBackend with 1 concurrent workers.\n",
      "[Parallel(n_jobs=1)]: Done 140 out of 140 | elapsed:    0.6s finished\n"
     ]
    },
    {
     "data": {
      "text/plain": [
       "GridSearchCV(cv=5, estimator=Lasso(),\n",
       "             param_grid={'alpha': [0.0001, 0.001, 0.01, 0.05, 0.1, 0.2, 0.3,\n",
       "                                   0.4, 0.5, 0.6, 0.7, 0.8, 0.9, 1.0, 2.0, 3.0,\n",
       "                                   4.0, 5.0, 6.0, 7.0, 8.0, 9.0, 10.0, 20, 50,\n",
       "                                   100, 500, 1000]},\n",
       "             return_train_score=True, scoring='neg_mean_absolute_error',\n",
       "             verbose=1)"
      ]
     },
     "execution_count": 291,
     "metadata": {},
     "output_type": "execute_result"
    }
   ],
   "source": [
    "lasso = Lasso()\n",
    "\n",
    "# cross validation\n",
    "model_cv = GridSearchCV(estimator = lasso, \n",
    "                        param_grid = params, \n",
    "                        scoring= 'neg_mean_absolute_error', \n",
    "                        cv = folds, \n",
    "                        return_train_score=True,\n",
    "                        verbose = 1)            \n",
    "\n",
    "model_cv.fit(X_final_training, y_final_training)"
   ]
  },
  {
   "cell_type": "code",
   "execution_count": 292,
   "metadata": {},
   "outputs": [
    {
     "data": {
      "text/html": [
       "<div>\n",
       "<style scoped>\n",
       "    .dataframe tbody tr th:only-of-type {\n",
       "        vertical-align: middle;\n",
       "    }\n",
       "\n",
       "    .dataframe tbody tr th {\n",
       "        vertical-align: top;\n",
       "    }\n",
       "\n",
       "    .dataframe thead th {\n",
       "        text-align: right;\n",
       "    }\n",
       "</style>\n",
       "<table border=\"1\" class=\"dataframe\">\n",
       "  <thead>\n",
       "    <tr style=\"text-align: right;\">\n",
       "      <th></th>\n",
       "      <th>mean_fit_time</th>\n",
       "      <th>std_fit_time</th>\n",
       "      <th>mean_score_time</th>\n",
       "      <th>std_score_time</th>\n",
       "      <th>param_alpha</th>\n",
       "      <th>params</th>\n",
       "      <th>split0_test_score</th>\n",
       "      <th>split1_test_score</th>\n",
       "      <th>split2_test_score</th>\n",
       "      <th>split3_test_score</th>\n",
       "      <th>...</th>\n",
       "      <th>mean_test_score</th>\n",
       "      <th>std_test_score</th>\n",
       "      <th>rank_test_score</th>\n",
       "      <th>split0_train_score</th>\n",
       "      <th>split1_train_score</th>\n",
       "      <th>split2_train_score</th>\n",
       "      <th>split3_train_score</th>\n",
       "      <th>split4_train_score</th>\n",
       "      <th>mean_train_score</th>\n",
       "      <th>std_train_score</th>\n",
       "    </tr>\n",
       "  </thead>\n",
       "  <tbody>\n",
       "    <tr>\n",
       "      <th>0</th>\n",
       "      <td>0.003419</td>\n",
       "      <td>0.002662</td>\n",
       "      <td>0.002393</td>\n",
       "      <td>0.002941</td>\n",
       "      <td>0.0001</td>\n",
       "      <td>{'alpha': 0.0001}</td>\n",
       "      <td>-117.680064</td>\n",
       "      <td>-124.558721</td>\n",
       "      <td>-119.444240</td>\n",
       "      <td>-119.474173</td>\n",
       "      <td>...</td>\n",
       "      <td>-120.902417</td>\n",
       "      <td>2.605106</td>\n",
       "      <td>4</td>\n",
       "      <td>-121.585538</td>\n",
       "      <td>-119.901817</td>\n",
       "      <td>-121.092637</td>\n",
       "      <td>-121.095426</td>\n",
       "      <td>-120.128170</td>\n",
       "      <td>-120.760718</td>\n",
       "      <td>0.638805</td>\n",
       "    </tr>\n",
       "    <tr>\n",
       "      <th>1</th>\n",
       "      <td>0.003194</td>\n",
       "      <td>0.003912</td>\n",
       "      <td>0.000000</td>\n",
       "      <td>0.000000</td>\n",
       "      <td>0.001</td>\n",
       "      <td>{'alpha': 0.001}</td>\n",
       "      <td>-117.680065</td>\n",
       "      <td>-124.558721</td>\n",
       "      <td>-119.444240</td>\n",
       "      <td>-119.474176</td>\n",
       "      <td>...</td>\n",
       "      <td>-120.902417</td>\n",
       "      <td>2.605105</td>\n",
       "      <td>5</td>\n",
       "      <td>-121.585538</td>\n",
       "      <td>-119.901817</td>\n",
       "      <td>-121.092637</td>\n",
       "      <td>-121.095425</td>\n",
       "      <td>-120.128170</td>\n",
       "      <td>-120.760717</td>\n",
       "      <td>0.638804</td>\n",
       "    </tr>\n",
       "    <tr>\n",
       "      <th>2</th>\n",
       "      <td>0.003193</td>\n",
       "      <td>0.003911</td>\n",
       "      <td>0.001607</td>\n",
       "      <td>0.003214</td>\n",
       "      <td>0.01</td>\n",
       "      <td>{'alpha': 0.01}</td>\n",
       "      <td>-117.680077</td>\n",
       "      <td>-124.558699</td>\n",
       "      <td>-119.444237</td>\n",
       "      <td>-119.474182</td>\n",
       "      <td>...</td>\n",
       "      <td>-120.902412</td>\n",
       "      <td>2.605092</td>\n",
       "      <td>2</td>\n",
       "      <td>-121.585539</td>\n",
       "      <td>-119.901821</td>\n",
       "      <td>-121.092637</td>\n",
       "      <td>-121.095425</td>\n",
       "      <td>-120.128168</td>\n",
       "      <td>-120.760718</td>\n",
       "      <td>0.638804</td>\n",
       "    </tr>\n",
       "    <tr>\n",
       "      <th>3</th>\n",
       "      <td>0.001600</td>\n",
       "      <td>0.003201</td>\n",
       "      <td>0.003206</td>\n",
       "      <td>0.003927</td>\n",
       "      <td>0.05</td>\n",
       "      <td>{'alpha': 0.05}</td>\n",
       "      <td>-117.680164</td>\n",
       "      <td>-124.558654</td>\n",
       "      <td>-119.444229</td>\n",
       "      <td>-119.474206</td>\n",
       "      <td>...</td>\n",
       "      <td>-120.902412</td>\n",
       "      <td>2.605045</td>\n",
       "      <td>3</td>\n",
       "      <td>-121.585509</td>\n",
       "      <td>-119.901837</td>\n",
       "      <td>-121.092643</td>\n",
       "      <td>-121.095425</td>\n",
       "      <td>-120.128167</td>\n",
       "      <td>-120.760716</td>\n",
       "      <td>0.638793</td>\n",
       "    </tr>\n",
       "    <tr>\n",
       "      <th>4</th>\n",
       "      <td>0.001599</td>\n",
       "      <td>0.003198</td>\n",
       "      <td>0.000000</td>\n",
       "      <td>0.000000</td>\n",
       "      <td>0.1</td>\n",
       "      <td>{'alpha': 0.1}</td>\n",
       "      <td>-117.680217</td>\n",
       "      <td>-124.558772</td>\n",
       "      <td>-119.444228</td>\n",
       "      <td>-119.474381</td>\n",
       "      <td>...</td>\n",
       "      <td>-120.902481</td>\n",
       "      <td>2.605046</td>\n",
       "      <td>7</td>\n",
       "      <td>-121.585535</td>\n",
       "      <td>-119.901858</td>\n",
       "      <td>-121.092667</td>\n",
       "      <td>-121.095352</td>\n",
       "      <td>-120.128191</td>\n",
       "      <td>-120.760721</td>\n",
       "      <td>0.638784</td>\n",
       "    </tr>\n",
       "  </tbody>\n",
       "</table>\n",
       "<p>5 rows × 21 columns</p>\n",
       "</div>"
      ],
      "text/plain": [
       "   mean_fit_time  std_fit_time  mean_score_time  std_score_time param_alpha  \\\n",
       "0       0.003419      0.002662         0.002393        0.002941      0.0001   \n",
       "1       0.003194      0.003912         0.000000        0.000000       0.001   \n",
       "2       0.003193      0.003911         0.001607        0.003214        0.01   \n",
       "3       0.001600      0.003201         0.003206        0.003927        0.05   \n",
       "4       0.001599      0.003198         0.000000        0.000000         0.1   \n",
       "\n",
       "              params  split0_test_score  split1_test_score  split2_test_score  \\\n",
       "0  {'alpha': 0.0001}        -117.680064        -124.558721        -119.444240   \n",
       "1   {'alpha': 0.001}        -117.680065        -124.558721        -119.444240   \n",
       "2    {'alpha': 0.01}        -117.680077        -124.558699        -119.444237   \n",
       "3    {'alpha': 0.05}        -117.680164        -124.558654        -119.444229   \n",
       "4     {'alpha': 0.1}        -117.680217        -124.558772        -119.444228   \n",
       "\n",
       "   split3_test_score  ...  mean_test_score  std_test_score  rank_test_score  \\\n",
       "0        -119.474173  ...      -120.902417        2.605106                4   \n",
       "1        -119.474176  ...      -120.902417        2.605105                5   \n",
       "2        -119.474182  ...      -120.902412        2.605092                2   \n",
       "3        -119.474206  ...      -120.902412        2.605045                3   \n",
       "4        -119.474381  ...      -120.902481        2.605046                7   \n",
       "\n",
       "   split0_train_score  split1_train_score  split2_train_score  \\\n",
       "0         -121.585538         -119.901817         -121.092637   \n",
       "1         -121.585538         -119.901817         -121.092637   \n",
       "2         -121.585539         -119.901821         -121.092637   \n",
       "3         -121.585509         -119.901837         -121.092643   \n",
       "4         -121.585535         -119.901858         -121.092667   \n",
       "\n",
       "   split3_train_score  split4_train_score  mean_train_score  std_train_score  \n",
       "0         -121.095426         -120.128170       -120.760718         0.638805  \n",
       "1         -121.095425         -120.128170       -120.760717         0.638804  \n",
       "2         -121.095425         -120.128168       -120.760718         0.638804  \n",
       "3         -121.095425         -120.128167       -120.760716         0.638793  \n",
       "4         -121.095352         -120.128191       -120.760721         0.638784  \n",
       "\n",
       "[5 rows x 21 columns]"
      ]
     },
     "execution_count": 292,
     "metadata": {},
     "output_type": "execute_result"
    }
   ],
   "source": [
    "cv_results = pd.DataFrame(model_cv.cv_results_)\n",
    "cv_results.head()"
   ]
  },
  {
   "cell_type": "code",
   "execution_count": 293,
   "metadata": {},
   "outputs": [
    {
     "data": {
      "image/png": "[encoded data removed]",
      "text/plain": [
       "<Figure size 432x288 with 1 Axes>"
      ]
     },
     "metadata": {
      "needs_background": "light"
     },
     "output_type": "display_data"
    }
   ],
   "source": [
    "# plotting mean test and train scoes with alpha \n",
    "cv_results['param_alpha'] = cv_results['param_alpha'].astype('float32')\n",
    "\n",
    "# plotting\n",
    "plt.plot(cv_results['param_alpha'], cv_results['mean_train_score'])\n",
    "plt.plot(cv_results['param_alpha'], cv_results['mean_test_score'])\n",
    "plt.xlabel('alpha')\n",
    "plt.ylabel('Negative Mean Absolute Error')\n",
    "\n",
    "plt.title(\"Negative Mean Absolute Error and alpha\")\n",
    "plt.legend(['train score', 'test score'], loc='upper left')\n",
    "plt.show()"
   ]
  },
  {
   "cell_type": "code",
   "execution_count": 294,
   "metadata": {},
   "outputs": [
    {
     "data": {
      "text/plain": [
       "{'alpha': 0.2}"
      ]
     },
     "execution_count": 294,
     "metadata": {},
     "output_type": "execute_result"
    }
   ],
   "source": [
    "model_cv.best_params_"
   ]
  },
  {
   "cell_type": "code",
   "execution_count": 295,
   "metadata": {},
   "outputs": [
    {
     "data": {
      "text/plain": [
       "Lasso(alpha=0.2)"
      ]
     },
     "execution_count": 295,
     "metadata": {},
     "output_type": "execute_result"
    }
   ],
   "source": [
    "model_lasso = Lasso(alpha = 0.2) \n",
    "model_lasso.fit(X_final_training, y_final_training)"
   ]
  },
  {
   "cell_type": "code",
   "execution_count": 296,
   "metadata": {},
   "outputs": [],
   "source": [
    "y_test_pred = model_lasso.predict(X_test)"
   ]
  },
  {
   "cell_type": "code",
   "execution_count": 297,
   "metadata": {},
   "outputs": [
    {
     "name": "stdout",
     "output_type": "stream",
     "text": [
      "RMSE on Test data: 148.47341942588696\n"
     ]
    }
   ],
   "source": [
    "mse = mean_squared_error(y_test, y_test_pred)\n",
    "\n",
    "rmse = math.sqrt(mse)\n",
    "\n",
    "print(f'RMSE on Test data: {rmse}')"
   ]
  },
  {
   "cell_type": "code",
   "execution_count": 298,
   "metadata": {},
   "outputs": [],
   "source": [
    "y_train_pred = model_lasso.predict(X_final_training)"
   ]
  },
  {
   "cell_type": "code",
   "execution_count": 299,
   "metadata": {},
   "outputs": [
    {
     "name": "stdout",
     "output_type": "stream",
     "text": [
      "RMSE on Train data: 151.5875643588549\n"
     ]
    }
   ],
   "source": [
    "mse = mean_squared_error(y_final_training, y_train_pred)\n",
    "\n",
    "rmse = math.sqrt(mse)\n",
    "\n",
    "print(f'RMSE on Train data: {rmse}')"
   ]
  },
  {
   "cell_type": "markdown",
   "metadata": {},
   "source": [
    "#### 4.4. ElasticNet Regression (8 points)"
   ]
  },
  {
   "cell_type": "code",
   "execution_count": 300,
   "metadata": {},
   "outputs": [],
   "source": [
    "# Implement ElasticNet Regression.\n",
    "# Perform cross validation to find a good value for your hyper-parameters.\n",
    "# After choosing a good value for your hyper-parameter, use both train and val data for final training purpose of your model.\n",
    "# Make preditions on both training(train+val) and test data."
   ]
  },
  {
   "cell_type": "code",
   "execution_count": 301,
   "metadata": {},
   "outputs": [
    {
     "name": "stdout",
     "output_type": "stream",
     "text": [
      "Fitting 5 folds for each of 484 candidates, totalling 2420 fits\n"
     ]
    },
    {
     "name": "stderr",
     "output_type": "stream",
     "text": [
      "[Parallel(n_jobs=1)]: Using backend SequentialBackend with 1 concurrent workers.\n",
      "[Parallel(n_jobs=1)]: Done 2420 out of 2420 | elapsed:   11.1s finished\n"
     ]
    },
    {
     "data": {
      "text/plain": [
       "GridSearchCV(estimator=ElasticNet(),\n",
       "             param_grid={'alpha': [0.0001, 0.001, 0.01, 0.05, 0.1, 0.2, 0.3,\n",
       "                                   0.4, 0.5, 0.6, 0.9, 1.0, 2.0, 3.0, 4.0, 5.0,\n",
       "                                   6.0, 7.0, 8.0, 9.0, 10.0, 20],\n",
       "                         'l1_ratio': [0.0001, 0.001, 0.01, 0.05, 0.1, 0.2, 0.3,\n",
       "                                      0.4, 0.5, 0.6, 0.9, 1.0, 2.0, 3.0, 4.0,\n",
       "                                      5.0, 6.0, 7.0, 8.0, 9.0, 10.0, 20]},\n",
       "             return_train_score=True, scoring='neg_mean_absolute_error',\n",
       "             verbose=1)"
      ]
     },
     "execution_count": 301,
     "metadata": {},
     "output_type": "execute_result"
    }
   ],
   "source": [
    "parametersGrid = {\"alpha\": [0.0001, 0.001, 0.01, 0.05, 0.1, 0.2, 0.3,\n",
    "                                   0.4, 0.5, 0.6, 0.9, 1.0, 2.0, 3.0,\n",
    "                                   4.0, 5.0, 6.0, 7.0, 8.0, 9.0, 10.0, 20],\n",
    "                  \"l1_ratio\": [0.0001, 0.001, 0.01, 0.05, 0.1, 0.2, 0.3,\n",
    "                                   0.4, 0.5, 0.6, 0.9, 1.0, 2.0, 3.0,\n",
    "                                   4.0, 5.0, 6.0, 7.0, 8.0, 9.0, 10.0,20]}\n",
    "\n",
    "eNet = ElasticNet()\n",
    "grid = GridSearchCV(eNet, parametersGrid, scoring='neg_mean_absolute_error', return_train_score=True,\n",
    "                        verbose = 1)\n",
    "grid.fit(X_final_training, y_final_training)\n",
    "#Y_pred = grid.predict(X_test)"
   ]
  },
  {
   "cell_type": "code",
   "execution_count": 302,
   "metadata": {},
   "outputs": [
    {
     "data": {
      "text/plain": [
       "{'alpha': 1.0, 'l1_ratio': 10.0}"
      ]
     },
     "execution_count": 302,
     "metadata": {},
     "output_type": "execute_result"
    }
   ],
   "source": [
    "grid.best_params_"
   ]
  },
  {
   "cell_type": "code",
   "execution_count": 303,
   "metadata": {},
   "outputs": [
    {
     "data": {
      "text/plain": [
       "ElasticNet(alpha=1, l1_ratio=10)"
      ]
     },
     "execution_count": 303,
     "metadata": {},
     "output_type": "execute_result"
    }
   ],
   "source": [
    "model_net = ElasticNet(alpha = 1,l1_ratio=10) \n",
    "model_net.fit(X_final_training, y_final_training)"
   ]
  },
  {
   "cell_type": "code",
   "execution_count": 304,
   "metadata": {},
   "outputs": [],
   "source": [
    "y_test_pred = model_net.predict(X_test)"
   ]
  },
  {
   "cell_type": "code",
   "execution_count": 305,
   "metadata": {},
   "outputs": [
    {
     "name": "stdout",
     "output_type": "stream",
     "text": [
      "RMSE on Test data: 148.4609112487195\n"
     ]
    }
   ],
   "source": [
    "mse = mean_squared_error(y_test, y_test_pred)\n",
    "\n",
    "rmse = math.sqrt(mse)\n",
    "\n",
    "print(f'RMSE on Test data: {rmse}')"
   ]
  },
  {
   "cell_type": "code",
   "execution_count": 306,
   "metadata": {},
   "outputs": [],
   "source": [
    "y_train_pred = model_net.predict(X_final_training)"
   ]
  },
  {
   "cell_type": "code",
   "execution_count": 307,
   "metadata": {},
   "outputs": [
    {
     "name": "stdout",
     "output_type": "stream",
     "text": [
      "RMSE on Train data: 151.61982033973726\n"
     ]
    }
   ],
   "source": [
    "mse = mean_squared_error(y_final_training, y_train_pred)\n",
    "\n",
    "rmse = math.sqrt(mse)\n",
    "\n",
    "print(f'RMSE on Train data: {rmse}')"
   ]
  },
  {
   "cell_type": "markdown",
   "metadata": {},
   "source": [
    "### 5. Analysis (8 points)"
   ]
  },
  {
   "cell_type": "code",
   "execution_count": 308,
   "metadata": {},
   "outputs": [
    {
     "data": {
      "text/html": [
       "<div>\n",
       "<style scoped>\n",
       "    .dataframe tbody tr th:only-of-type {\n",
       "        vertical-align: middle;\n",
       "    }\n",
       "\n",
       "    .dataframe tbody tr th {\n",
       "        vertical-align: top;\n",
       "    }\n",
       "\n",
       "    .dataframe thead th {\n",
       "        text-align: right;\n",
       "    }\n",
       "</style>\n",
       "<table border=\"1\" class=\"dataframe\">\n",
       "  <thead>\n",
       "    <tr style=\"text-align: right;\">\n",
       "      <th></th>\n",
       "      <th>Actual</th>\n",
       "      <th>Prediction_from_LR</th>\n",
       "      <th>Prediction_from_Ridge</th>\n",
       "      <th>Prediction_from_Lasso</th>\n",
       "      <th>Prediction_from_Elastic Net</th>\n",
       "    </tr>\n",
       "  </thead>\n",
       "  <tbody>\n",
       "    <tr>\n",
       "      <th>0</th>\n",
       "      <td>66.12</td>\n",
       "      <td>61.235630</td>\n",
       "      <td>61.235630</td>\n",
       "      <td>61.234646</td>\n",
       "      <td>61.326271</td>\n",
       "    </tr>\n",
       "    <tr>\n",
       "      <th>1</th>\n",
       "      <td>-572.89</td>\n",
       "      <td>-576.474002</td>\n",
       "      <td>-576.474002</td>\n",
       "      <td>-576.460818</td>\n",
       "      <td>-575.772932</td>\n",
       "    </tr>\n",
       "    <tr>\n",
       "      <th>2</th>\n",
       "      <td>-94.71</td>\n",
       "      <td>-112.489283</td>\n",
       "      <td>-112.489283</td>\n",
       "      <td>-112.486068</td>\n",
       "      <td>-112.146884</td>\n",
       "    </tr>\n",
       "    <tr>\n",
       "      <th>3</th>\n",
       "      <td>-306.84</td>\n",
       "      <td>-413.460170</td>\n",
       "      <td>-413.460170</td>\n",
       "      <td>-413.463833</td>\n",
       "      <td>-416.243135</td>\n",
       "    </tr>\n",
       "    <tr>\n",
       "      <th>4</th>\n",
       "      <td>580.10</td>\n",
       "      <td>602.521612</td>\n",
       "      <td>602.521612</td>\n",
       "      <td>602.531077</td>\n",
       "      <td>607.750004</td>\n",
       "    </tr>\n",
       "    <tr>\n",
       "      <th>5</th>\n",
       "      <td>-34.05</td>\n",
       "      <td>-19.808152</td>\n",
       "      <td>-19.808152</td>\n",
       "      <td>-19.812207</td>\n",
       "      <td>-20.865752</td>\n",
       "    </tr>\n",
       "    <tr>\n",
       "      <th>6</th>\n",
       "      <td>-81.37</td>\n",
       "      <td>-172.968197</td>\n",
       "      <td>-172.968197</td>\n",
       "      <td>-172.973264</td>\n",
       "      <td>-174.990230</td>\n",
       "    </tr>\n",
       "    <tr>\n",
       "      <th>7</th>\n",
       "      <td>552.60</td>\n",
       "      <td>601.278257</td>\n",
       "      <td>601.278257</td>\n",
       "      <td>601.281232</td>\n",
       "      <td>604.867643</td>\n",
       "    </tr>\n",
       "    <tr>\n",
       "      <th>8</th>\n",
       "      <td>-24.39</td>\n",
       "      <td>-42.406417</td>\n",
       "      <td>-42.406417</td>\n",
       "      <td>-42.395925</td>\n",
       "      <td>-39.908065</td>\n",
       "    </tr>\n",
       "    <tr>\n",
       "      <th>9</th>\n",
       "      <td>538.47</td>\n",
       "      <td>558.283905</td>\n",
       "      <td>558.283905</td>\n",
       "      <td>558.282180</td>\n",
       "      <td>560.491393</td>\n",
       "    </tr>\n",
       "  </tbody>\n",
       "</table>\n",
       "</div>"
      ],
      "text/plain": [
       "   Actual  Prediction_from_LR  Prediction_from_Ridge  Prediction_from_Lasso  \\\n",
       "0   66.12           61.235630              61.235630              61.234646   \n",
       "1 -572.89         -576.474002            -576.474002            -576.460818   \n",
       "2  -94.71         -112.489283            -112.489283            -112.486068   \n",
       "3 -306.84         -413.460170            -413.460170            -413.463833   \n",
       "4  580.10          602.521612             602.521612             602.531077   \n",
       "5  -34.05          -19.808152             -19.808152             -19.812207   \n",
       "6  -81.37         -172.968197            -172.968197            -172.973264   \n",
       "7  552.60          601.278257             601.278257             601.281232   \n",
       "8  -24.39          -42.406417             -42.406417             -42.395925   \n",
       "9  538.47          558.283905             558.283905             558.282180   \n",
       "\n",
       "   Prediction_from_Elastic Net  \n",
       "0                    61.326271  \n",
       "1                  -575.772932  \n",
       "2                  -112.146884  \n",
       "3                  -416.243135  \n",
       "4                   607.750004  \n",
       "5                   -20.865752  \n",
       "6                  -174.990230  \n",
       "7                   604.867643  \n",
       "8                   -39.908065  \n",
       "9                   560.491393  "
      ]
     },
     "execution_count": 308,
     "metadata": {},
     "output_type": "execute_result"
    }
   ],
   "source": [
    "# Write down the actual value along with the preditions from all the regression models, for the first 10 points in test data.\n",
    "# Find both RMSE and MAE for all the regression models on both training(train+val) and testing data.\n",
    "y_test_pred_lr = model_lr.predict(X_test[:10])\n",
    "y_test_pred_ridge = model_ridge.predict(X_test[:10])\n",
    "y_test_pred_lasso = model_lasso.predict(X_test[:10])\n",
    "y_test_pred_net = model_net.predict(X_test[:10])\n",
    "pred_vs_actual = pd.DataFrame(list(zip(y_test[:10],y_test_pred_lr,y_test_pred_ridge,y_test_pred_lasso,y_test_pred_net)), \n",
    "               columns =['Actual', 'Prediction_from_LR','Prediction_from_Ridge','Prediction_from_Lasso','Prediction_from_Elastic Net'])\n",
    "pred_vs_actual"
   ]
  },
  {
   "cell_type": "code",
   "execution_count": 309,
   "metadata": {},
   "outputs": [],
   "source": [
    "mse_test = []\n",
    "mse_train = []\n",
    "r2_score_test = []\n",
    "r2_score_train = []\n",
    "for model in [model_lr,model_ridge,model_lasso,model_net]:\n",
    "    y_test_pred = model.predict(X_test)\n",
    "    mse_test.append(mean_squared_error(y_test, y_test_pred))\n",
    "    r2_score_test.append(r2_score(y_test, y_test_pred))\n",
    "    y_train_pred = model.predict(X_final_training)\n",
    "    mse_train.append(mean_squared_error(y_final_training, y_train_pred))\n",
    "    r2_score_train.append(r2_score(y_final_training, y_train_pred))"
   ]
  },
  {
   "cell_type": "code",
   "execution_count": 310,
   "metadata": {},
   "outputs": [],
   "source": [
    "Metrics_df = pd.DataFrame(list(zip(mse_test,np.sqrt(mse_test),mse_train,np.sqrt(mse_train),r2_score_test,r2_score_train)),columns=['MSE_Test','RMSE_Test','MSE_Train','RMSE_Train','R2 Test','R2 Train'],index=['Linear Regression','Ridge Regression','Lasso Regression','Elastic Net Regression'])"
   ]
  },
  {
   "cell_type": "code",
   "execution_count": 311,
   "metadata": {},
   "outputs": [
    {
     "data": {
      "text/html": [
       "<div>\n",
       "<style scoped>\n",
       "    .dataframe tbody tr th:only-of-type {\n",
       "        vertical-align: middle;\n",
       "    }\n",
       "\n",
       "    .dataframe tbody tr th {\n",
       "        vertical-align: top;\n",
       "    }\n",
       "\n",
       "    .dataframe thead th {\n",
       "        text-align: right;\n",
       "    }\n",
       "</style>\n",
       "<table border=\"1\" class=\"dataframe\">\n",
       "  <thead>\n",
       "    <tr style=\"text-align: right;\">\n",
       "      <th></th>\n",
       "      <th>MSE_Test</th>\n",
       "      <th>RMSE_Test</th>\n",
       "      <th>MSE_Train</th>\n",
       "      <th>RMSE_Train</th>\n",
       "      <th>R2 Test</th>\n",
       "      <th>R2 Train</th>\n",
       "    </tr>\n",
       "  </thead>\n",
       "  <tbody>\n",
       "    <tr>\n",
       "      <th>Linear Regression</th>\n",
       "      <td>22044.493045</td>\n",
       "      <td>148.473880</td>\n",
       "      <td>22978.789626</td>\n",
       "      <td>151.587564</td>\n",
       "      <td>0.951394</td>\n",
       "      <td>0.947258</td>\n",
       "    </tr>\n",
       "    <tr>\n",
       "      <th>Ridge Regression</th>\n",
       "      <td>22044.493045</td>\n",
       "      <td>148.473880</td>\n",
       "      <td>22978.789626</td>\n",
       "      <td>151.587564</td>\n",
       "      <td>0.951394</td>\n",
       "      <td>0.947258</td>\n",
       "    </tr>\n",
       "    <tr>\n",
       "      <th>Lasso Regression</th>\n",
       "      <td>22044.356276</td>\n",
       "      <td>148.473419</td>\n",
       "      <td>22978.789668</td>\n",
       "      <td>151.587564</td>\n",
       "      <td>0.951394</td>\n",
       "      <td>0.947258</td>\n",
       "    </tr>\n",
       "    <tr>\n",
       "      <th>Elastic Net Regression</th>\n",
       "      <td>22040.642169</td>\n",
       "      <td>148.460911</td>\n",
       "      <td>22988.569920</td>\n",
       "      <td>151.619820</td>\n",
       "      <td>0.951402</td>\n",
       "      <td>0.947236</td>\n",
       "    </tr>\n",
       "  </tbody>\n",
       "</table>\n",
       "</div>"
      ],
      "text/plain": [
       "                            MSE_Test   RMSE_Test     MSE_Train  RMSE_Train  \\\n",
       "Linear Regression       22044.493045  148.473880  22978.789626  151.587564   \n",
       "Ridge Regression        22044.493045  148.473880  22978.789626  151.587564   \n",
       "Lasso Regression        22044.356276  148.473419  22978.789668  151.587564   \n",
       "Elastic Net Regression  22040.642169  148.460911  22988.569920  151.619820   \n",
       "\n",
       "                         R2 Test  R2 Train  \n",
       "Linear Regression       0.951394  0.947258  \n",
       "Ridge Regression        0.951394  0.947258  \n",
       "Lasso Regression        0.951394  0.947258  \n",
       "Elastic Net Regression  0.951402  0.947236  "
      ]
     },
     "execution_count": 311,
     "metadata": {},
     "output_type": "execute_result"
    }
   ],
   "source": [
    "Metrics_df"
   ]
  },
  {
   "cell_type": "markdown",
   "metadata": {},
   "source": [
    "### 6. Final Observations (2 points)"
   ]
  },
  {
   "cell_type": "markdown",
   "metadata": {},
   "source": [
    "# Write down your final conclusions/observations.\n",
    "\n",
    "We can observe from the above metric table, all models performed with almost same error and Linear Regression with out \n",
    "any regularization was able to capture the maximum variance of the given data. So, We may not need to perform regularization for the given data as Linear regression is performing well."
   ]
  }
 ],
 "metadata": {
  "kernelspec": {
   "display_name": "Python 3",
   "language": "python",
   "name": "python3"
  },
  "language_info": {
   "codemirror_mode": {
    "name": "ipython",
    "version": 3
   },
   "file_extension": ".py",
   "mimetype": "text/x-python",
   "name": "python",
   "nbconvert_exporter": "python",
   "pygments_lexer": "ipython3",
   "version": "3.8.3"
  }
 },
 "nbformat": 4,
 "nbformat_minor": 4
}
